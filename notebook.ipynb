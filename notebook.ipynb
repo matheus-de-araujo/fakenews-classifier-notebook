{
  "cells": [
    {
      "cell_type": "markdown",
      "metadata": {
        "colab_type": "text",
        "id": "view-in-github"
      },
      "source": [
        "<a href=\"https://colab.research.google.com/github/matheus-de-araujo/fakenews-classifier-notebook/blob/main/notebook.ipynb\" target=\"_parent\"><img src=\"https://colab.research.google.com/assets/colab-badge.svg\" alt=\"Open In Colab\"/></a>"
      ]
    },
    {
      "cell_type": "markdown",
      "metadata": {
        "id": "CZEJTisnX3UH"
      },
      "source": [
        "# 1. Importação das bibliotecas"
      ]
    },
    {
      "cell_type": "code",
      "execution_count": 1,
      "metadata": {
        "colab": {
          "base_uri": "https://localhost:8080/"
        },
        "id": "Zz7uhiFbXkmW",
        "outputId": "f7ce5729-b25d-4344-ddfb-8041f73bc40c"
      },
      "outputs": [
        {
          "name": "stderr",
          "output_type": "stream",
          "text": [
            "[nltk_data] Downloading package stopwords to\n",
            "[nltk_data]     /home/matheus/nltk_data...\n",
            "[nltk_data]   Package stopwords is already up-to-date!\n"
          ]
        }
      ],
      "source": [
        "import pandas\n",
        "from sklearn.model_selection import train_test_split\n",
        "from sklearn.feature_extraction.text import TfidfVectorizer\n",
        "import nltk \n",
        "nltk.download('stopwords')\n",
        "from nltk.corpus import stopwords\n",
        "import pickle\n",
        "from sklearn.svm import SVC\n",
        "import os, re\n",
        "import string"
      ]
    },
    {
      "cell_type": "markdown",
      "metadata": {
        "id": "9h7uvesXYaJ9"
      },
      "source": [
        "# 2. Leitura do dataset"
      ]
    },
    {
      "cell_type": "code",
      "execution_count": 12,
      "metadata": {
        "id": "yAki4irkXkme"
      },
      "outputs": [
        {
          "name": "stdout",
          "output_type": "stream",
          "text": [
            "A pasta já existe!\n"
          ]
        }
      ],
      "source": [
        "if os.path.exists('dataset-fake-br-for-tcc/'):\n",
        "    print('A pasta já existe!')\n",
        "else:\n",
        "    !git clone https://github.com/matheus-de-araujo/dataset-fake-br-for-tcc.git\n",
        "\n",
        "def returnDataSetFrame():\n",
        "    dataFrame = pandas.DataFrame(columns=[ 'text', 'label'])\n",
        "    paths = ['dataset-fake-br-for-tcc/full_texts/fake/', 'dataset-fake-br-for-tcc/full_texts/true/']\n",
        "\n",
        "    for filename in os.listdir(paths[0]):\n",
        "        with open(paths[0]+filename, 'r') as f:\n",
        "            text = f.read()\n",
        "            dataFrame.loc[len(dataFrame)] = [preProcessing(text), 'fake']\n",
        "\n",
        "    for filename in os.listdir(paths[1]):\n",
        "        with open(paths[1]+filename, 'r') as f:\n",
        "            text = f.read()\n",
        "            dataFrame.loc[len(dataFrame)] = [preProcessing(text), 'true']\n",
        "    return dataFrame\n",
        "\n",
        "data = returnDataSetFrame()"
      ]
    },
    {
      "cell_type": "markdown",
      "metadata": {
        "id": "GJBZrvNwBQy6"
      },
      "source": [
        "# 3. Limpeza dos dados e Remoção dos StopWords"
      ]
    },
    {
      "cell_type": "code",
      "execution_count": 3,
      "metadata": {
        "id": "itPlQXF0Xkmo",
        "outputId": "661852c7-8ce0-4559-bdc8-6a3b57099d61"
      },
      "outputs": [
        {
          "name": "stderr",
          "output_type": "stream",
          "text": [
            "[nltk_data] Downloading package stopwords to\n",
            "[nltk_data]     /home/matheus/nltk_data...\n",
            "[nltk_data]   Package stopwords is already up-to-date!\n",
            "[nltk_data] Downloading package rslp to /home/matheus/nltk_data...\n",
            "[nltk_data]   Package rslp is already up-to-date!\n"
          ]
        }
      ],
      "source": [
        "nltk.download('stopwords')\n",
        "nltk.download('rslp')\n",
        "\n",
        "def cleaning_text(text):\n",
        "    text = text.lower()\n",
        "    text = re.sub(\"(\\\\d|\\\\W|\\d+\\w+|\\\\n)+\",\" \",text)\n",
        "    text = text.translate(str.maketrans('', '', string.punctuation))\n",
        "    return text\n",
        "\n",
        "def removeStopWords(text):\n",
        "    stopwords_nltk = nltk.corpus.stopwords.words('portuguese')\n",
        "    text = ' '.join([word for word in text.split() if word not in stopwords_nltk])\n",
        "    return text\n",
        "\n",
        "def preProcessing(text):\n",
        "    return removeStopWords(cleaning_text(text))"
      ]
    },
    {
      "cell_type": "code",
      "execution_count": null,
      "metadata": {
        "id": "xMgcy5G4Xkmu"
      },
      "outputs": [],
      "source": [
        "data"
      ]
    },
    {
      "cell_type": "code",
      "execution_count": null,
      "metadata": {
        "id": "B1rUpzayXkmx"
      },
      "outputs": [],
      "source": [
        "y = data.label\n",
        "X_train, X_test, y_train, y_test = train_test_split(data['text'], y, test_size=0.2, random_state=42)"
      ]
    },
    {
      "cell_type": "code",
      "execution_count": null,
      "metadata": {
        "id": "xCV97igMXkmz"
      },
      "outputs": [],
      "source": [
        "tf_vectorizer = TfidfVectorizer(stop_words=stopwords.words('portuguese'), analyzer='word', ngram_range=(1, 1), lowercase=True, use_idf=True)"
      ]
    },
    {
      "cell_type": "code",
      "execution_count": null,
      "metadata": {
        "id": "iCyirBjZXkm1"
      },
      "outputs": [],
      "source": [
        "tfidf_train = tf_vectorizer.fit_transform(X_train) "
      ]
    },
    {
      "cell_type": "code",
      "execution_count": null,
      "metadata": {
        "id": "4SUPL0R8Xkm4"
      },
      "outputs": [],
      "source": [
        "def new_func():\n",
        "    tfidf_test = tf_vectorizer.transform(X_test)\n",
        "\n",
        "new_func()"
      ]
    },
    {
      "cell_type": "code",
      "execution_count": null,
      "metadata": {
        "id": "DE86sE9iXkm5"
      },
      "outputs": [],
      "source": [
        "pickle.dump(tf_vectorizer,open('tfidf.pkl','wb')) "
      ]
    },
    {
      "cell_type": "code",
      "execution_count": null,
      "metadata": {
        "id": "2nJDSwX2Xkm7"
      },
      "outputs": [],
      "source": [
        "support_vector_machine = SVC(kernel='linear').fit(tfidf_train, y_train)"
      ]
    },
    {
      "cell_type": "code",
      "execution_count": null,
      "metadata": {
        "id": "Y-YPLF__Xkm-"
      },
      "outputs": [],
      "source": [
        "pickle.dump(support_vector_machine, open('model.pkl','wb'))"
      ]
    },
    {
      "cell_type": "code",
      "execution_count": null,
      "metadata": {
        "id": "iuod-tJ2Xkm-"
      },
      "outputs": [],
      "source": [
        "model = pickle.load(open('model.pkl','rb'))"
      ]
    }
  ],
  "metadata": {
    "colab": {
      "include_colab_link": true,
      "provenance": []
    },
    "kernelspec": {
      "display_name": "Python 3.10.6 64-bit",
      "language": "python",
      "name": "python3"
    },
    "language_info": {
      "codemirror_mode": {
        "name": "ipython",
        "version": 3
      },
      "file_extension": ".py",
      "mimetype": "text/x-python",
      "name": "python",
      "nbconvert_exporter": "python",
      "pygments_lexer": "ipython3",
      "version": "3.10.7"
    },
    "orig_nbformat": 4,
    "vscode": {
      "interpreter": {
        "hash": "e7370f93d1d0cde622a1f8e1c04877d8463912d04d973331ad4851f04de6915a"
      }
    }
  },
  "nbformat": 4,
  "nbformat_minor": 0
}
